{
 "cells": [
  {
   "cell_type": "code",
   "execution_count": 1,
   "id": "96f36b47-90ad-4395-9ca3-0df9eeedec99",
   "metadata": {},
   "outputs": [
    {
     "name": "stdout",
     "output_type": "stream",
     "text": [
      "this is in the repo\n"
     ]
    }
   ],
   "source": [
    "print(\"this is in the repo\")"
   ]
  },
  {
   "cell_type": "code",
   "execution_count": null,
   "id": "3c085896-9b2f-4bca-9c08-cc5cc617b344",
   "metadata": {},
   "outputs": [],
   "source": []
  }
 ],
 "metadata": {
  "kernelspec": {
   "display_name": "Python 3 ",
   "language": "python",
   "name": "python3"
  },
  "language_info": {
   "codemirror_mode": {
    "name": "ipython",
    "version": 3
   },
   "file_extension": ".py",
   "mimetype": "text/x-python",
   "name": "python",
   "nbconvert_exporter": "python",
   "pygments_lexer": "ipython3",
   "version": "3.10.14"
  }
 },
 "nbformat": 4,
 "nbformat_minor": 5
}
